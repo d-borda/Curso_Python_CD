{
 "cells": [
  {
   "cell_type": "markdown",
   "metadata": {},
   "source": [
    "## Introducción a elementos en Python\n",
    "#### Sesión 1\n",
    "\n",
    "<p>Bienvenidos al uso de Notebooks en Jupyter. Esta sesión busca:</p>\n",
    "\n",
    "* Estructuras de datos básicas\n",
    "    + Tipos de datos (int, float, str…)\n",
    "    + Operadores\n",
    "    + tuple, dict, list, set\n",
    "* Control de flujo\n",
    "    + Condicionales (if, else, elif)\n",
    "    + Iteradores (for, while…)\n",
    "    + Funciones\n",
    "* Entrada/Salida\n",
    "    + Notebook cells in Jupyter\n",
    "    + Read/write file “old-style” (open, with, xlrd, xlwt)\n",
    "    + Python objects: Pickle\n",
    "\n",
    "Esta línea es para demostrar que se pueden escribir ecuaciones como esta, $\\sum\\limits_{t=1}^{N}\\frac{\\pi}{1-e^{-\\kappa t}}$, por tener acceso a LaTeX en celdas Markdown."
   ]
  },
  {
   "cell_type": "code",
   "execution_count": 107,
   "metadata": {},
   "outputs": [
    {
     "name": "stdout",
     "output_type": "stream",
     "text": [
      "Hola CD \n"
     ]
    }
   ],
   "source": [
    "#Integer\n",
    "a = 3\n",
    "#Float / Double \n",
    "b = 2.5\n",
    "#String\n",
    "c = 'Hola'\n",
    "print(c + ' CD ')"
   ]
  },
  {
   "cell_type": "code",
   "execution_count": 110,
   "metadata": {},
   "outputs": [
    {
     "name": "stdout",
     "output_type": "stream",
     "text": [
      "False True\n"
     ]
    }
   ],
   "source": [
    "#Boolean\n",
    "z = 4 > 10\n",
    "y = True\n",
    "print(z,y)"
   ]
  },
  {
   "cell_type": "code",
   "execution_count": 114,
   "metadata": {},
   "outputs": [
    {
     "name": "stdout",
     "output_type": "stream",
     "text": [
      "<class 'int'>\n",
      "<class 'float'>\n",
      "<class 'str'>\n",
      "<class 'bool'>\n",
      "<class 'bool'>\n"
     ]
    }
   ],
   "source": [
    "##Funciones relativas a tipos de datos.\n",
    "##type(): Entre otras cosas, type regresa el tipo de dato de una variable.\n",
    "print(type(a))\n",
    "print(type(b))\n",
    "print(type(c))\n",
    "print(type(z))\n",
    "print(type(y))"
   ]
  },
  {
   "cell_type": "code",
   "execution_count": 116,
   "metadata": {},
   "outputs": [
    {
     "data": {
      "text/plain": [
       "'True'"
      ]
     },
     "execution_count": 116,
     "metadata": {},
     "output_type": "execute_result"
    }
   ],
   "source": [
    "##la función str(). Transforma a un objeto compatible en una cadena de caracteres.\n",
    "str(True)"
   ]
  },
  {
   "cell_type": "code",
   "execution_count": 117,
   "metadata": {},
   "outputs": [
    {
     "data": {
      "text/plain": [
       "'(12+3.5j)'"
      ]
     },
     "execution_count": 117,
     "metadata": {},
     "output_type": "execute_result"
    }
   ],
   "source": [
    "str(12 + 3.5j)"
   ]
  },
  {
   "cell_type": "markdown",
   "metadata": {},
   "source": [
    "#### La función int().\n",
    "Transforma un objeto compatible a un objeto tipo int. Puede convertir objetos de tipo str que representen correctamente a un número entero.\n",
    "\n",
    "* Trunca los objetos de tipo float a la parte entera.\n",
    "* True es convertido en 1 y False en 0.\n",
    "* No es compatible con objetos tipo complex."
   ]
  },
  {
   "cell_type": "code",
   "execution_count": 118,
   "metadata": {},
   "outputs": [
    {
     "data": {
      "text/plain": [
       "1"
      ]
     },
     "execution_count": 118,
     "metadata": {},
     "output_type": "execute_result"
    }
   ],
   "source": [
    "int(True)"
   ]
  },
  {
   "cell_type": "code",
   "execution_count": 119,
   "metadata": {},
   "outputs": [
    {
     "data": {
      "text/plain": [
       "-12"
      ]
     },
     "execution_count": 119,
     "metadata": {},
     "output_type": "execute_result"
    }
   ],
   "source": [
    "int(\"-12\")"
   ]
  },
  {
   "cell_type": "code",
   "execution_count": 120,
   "metadata": {},
   "outputs": [
    {
     "data": {
      "text/plain": [
       "5"
      ]
     },
     "execution_count": 120,
     "metadata": {},
     "output_type": "execute_result"
    }
   ],
   "source": [
    "int(5.3)"
   ]
  },
  {
   "cell_type": "code",
   "execution_count": 121,
   "metadata": {},
   "outputs": [
    {
     "data": {
      "text/plain": [
       "-5"
      ]
     },
     "execution_count": 121,
     "metadata": {},
     "output_type": "execute_result"
    }
   ],
   "source": [
    "int(-5.3)"
   ]
  },
  {
   "cell_type": "code",
   "execution_count": 122,
   "metadata": {},
   "outputs": [
    {
     "ename": "TypeError",
     "evalue": "can't convert complex to int",
     "output_type": "error",
     "traceback": [
      "\u001b[1;31m---------------------------------------------------------------------------\u001b[0m",
      "\u001b[1;31mTypeError\u001b[0m                                 Traceback (most recent call last)",
      "\u001b[1;32m<ipython-input-122-980b7c1bd961>\u001b[0m in \u001b[0;36m<module>\u001b[1;34m\u001b[0m\n\u001b[1;32m----> 1\u001b[1;33m \u001b[0mint\u001b[0m\u001b[1;33m(\u001b[0m\u001b[1;36m45.2j\u001b[0m\u001b[1;33m)\u001b[0m\u001b[1;33m\u001b[0m\u001b[1;33m\u001b[0m\u001b[0m\n\u001b[0m",
      "\u001b[1;31mTypeError\u001b[0m: can't convert complex to int"
     ]
    }
   ],
   "source": [
    "int(45.2j)"
   ]
  },
  {
   "cell_type": "markdown",
   "metadata": {},
   "source": [
    "#### La función float().\n",
    "Transforma a un objeto compatible a uno de tipo float. Puede convertir objetos de tipo str que contengan representen correctamente a un número real.\n",
    "\n",
    "* Es compatible con los objetos tipo int.\n",
    "* True es convertido en 1.0 y False en 0.0.\n",
    "* No es compatible con objetos tipo complex."
   ]
  },
  {
   "cell_type": "code",
   "execution_count": 123,
   "metadata": {},
   "outputs": [
    {
     "data": {
      "text/plain": [
       "0.0"
      ]
     },
     "execution_count": 123,
     "metadata": {},
     "output_type": "execute_result"
    }
   ],
   "source": [
    "float(False)"
   ]
  },
  {
   "cell_type": "markdown",
   "metadata": {},
   "source": [
    "float(\"-12.6\")"
   ]
  },
  {
   "cell_type": "code",
   "execution_count": 125,
   "metadata": {},
   "outputs": [
    {
     "data": {
      "text/plain": [
       "-5.0"
      ]
     },
     "execution_count": 125,
     "metadata": {},
     "output_type": "execute_result"
    }
   ],
   "source": [
    "float(-5)"
   ]
  },
  {
   "cell_type": "code",
   "execution_count": 126,
   "metadata": {},
   "outputs": [
    {
     "ename": "ValueError",
     "evalue": "could not convert string to float: 'Hola'",
     "output_type": "error",
     "traceback": [
      "\u001b[1;31m---------------------------------------------------------------------------\u001b[0m",
      "\u001b[1;31mValueError\u001b[0m                                Traceback (most recent call last)",
      "\u001b[1;32m<ipython-input-126-5defe0eb8efc>\u001b[0m in \u001b[0;36m<module>\u001b[1;34m\u001b[0m\n\u001b[1;32m----> 1\u001b[1;33m \u001b[0mfloat\u001b[0m\u001b[1;33m(\u001b[0m\u001b[1;34m'Hola'\u001b[0m\u001b[1;33m)\u001b[0m\u001b[1;33m\u001b[0m\u001b[1;33m\u001b[0m\u001b[0m\n\u001b[0m",
      "\u001b[1;31mValueError\u001b[0m: could not convert string to float: 'Hola'"
     ]
    }
   ],
   "source": [
    "float('Hola')"
   ]
  },
  {
   "cell_type": "markdown",
   "metadata": {},
   "source": [
    "#### La función bool().\n",
    "Transforma en booleano a un objeto.\n",
    "\n",
    "+ El 0 es igual a False.\n",
    "+ Cualquier otra cosa distinto de 0 es True."
   ]
  },
  {
   "cell_type": "code",
   "execution_count": 127,
   "metadata": {},
   "outputs": [
    {
     "data": {
      "text/plain": [
       "True"
      ]
     },
     "execution_count": 127,
     "metadata": {},
     "output_type": "execute_result"
    }
   ],
   "source": [
    "bool(-3)"
   ]
  },
  {
   "cell_type": "code",
   "execution_count": 128,
   "metadata": {},
   "outputs": [
    {
     "data": {
      "text/plain": [
       "True"
      ]
     },
     "execution_count": 128,
     "metadata": {},
     "output_type": "execute_result"
    }
   ],
   "source": [
    "bool(2)"
   ]
  },
  {
   "cell_type": "code",
   "execution_count": 129,
   "metadata": {},
   "outputs": [
    {
     "data": {
      "text/plain": [
       "False"
      ]
     },
     "execution_count": 129,
     "metadata": {},
     "output_type": "execute_result"
    }
   ],
   "source": [
    "bool(0.0)"
   ]
  },
  {
   "cell_type": "markdown",
   "metadata": {},
   "source": [
    "### Operadores\n",
    "\n",
    "Ver Diapositivas"
   ]
  },
  {
   "cell_type": "markdown",
   "metadata": {},
   "source": [
    "### Estructuras de datos\n",
    "\n",
    "##### Tuplas\n",
    "Tienen orden y son imutables. Suelen ser útiles para identificar/indexar."
   ]
  },
  {
   "cell_type": "code",
   "execution_count": 1,
   "metadata": {},
   "outputs": [
    {
     "name": "stdout",
     "output_type": "stream",
     "text": [
      "2\n",
      "(2, 3)\n",
      "(2, 3)\n",
      "(3, 4)\n",
      "(3, 4)\n",
      "4\n",
      "No se puede modificar una tupla\n"
     ]
    }
   ],
   "source": [
    "# Declaración\n",
    "mi_tupla = (2,3,4)\n",
    "\n",
    "# Acceso (varias formas)\n",
    "print(mi_tupla[0])\n",
    "print(mi_tupla[0:2])\n",
    "print(mi_tupla[:2])\n",
    "print(mi_tupla[1:3])\n",
    "print(mi_tupla[1:])\n",
    "print(mi_tupla[-1])\n",
    "\n",
    "# Intento (fallido) de modificación\n",
    "try:\n",
    "    mi_tupla[0] = 5\n",
    "except:\n",
    "    print(\"No se puede modificar una tupla\")"
   ]
  },
  {
   "cell_type": "markdown",
   "metadata": {},
   "source": [
    "##### Listas\n",
    "Tienen orden y pueden modificarse. Son muy versátiles. A diferencia de arreglos en otros lenguajes, las listas pueden contener elementos de diferentes tipos (lista de listas, de tuplas, de diccionarios, de objetos complejos como modelos matemáticos, etc.)"
   ]
  },
  {
   "cell_type": "code",
   "execution_count": 2,
   "metadata": {},
   "outputs": [
    {
     "data": {
      "text/plain": [
       "[9, 8, 7]"
      ]
     },
     "execution_count": 2,
     "metadata": {},
     "output_type": "execute_result"
    }
   ],
   "source": [
    "# Declaración\n",
    "mi_lista = [9,8,7]\n",
    "mi_lista"
   ]
  },
  {
   "cell_type": "code",
   "execution_count": 3,
   "metadata": {},
   "outputs": [
    {
     "name": "stdout",
     "output_type": "stream",
     "text": [
      "7\n"
     ]
    }
   ],
   "source": [
    "# Acceso (igual que tuplas)\n",
    "print(mi_lista[2])"
   ]
  },
  {
   "cell_type": "code",
   "execution_count": 6,
   "metadata": {},
   "outputs": [
    {
     "name": "stdout",
     "output_type": "stream",
     "text": [
      "[9, 35, 7]\n"
     ]
    }
   ],
   "source": [
    "# Modificar (usando indice)\n",
    "# Revisar también \"insert\", \"extend\", \"remove\", \"del\", \"pop\", \"reverse\"\n",
    "mi_lista[1] = 35\n",
    "print(mi_lista)"
   ]
  },
  {
   "cell_type": "code",
   "execution_count": 8,
   "metadata": {},
   "outputs": [
    {
     "name": "stdout",
     "output_type": "stream",
     "text": [
      "Vowel List:  ['a', 'e', 'i', 'u']\n",
      "Updated List:  ['a', 'e', 'i', 'o', 'u']\n"
     ]
    }
   ],
   "source": [
    "#insert: The insert() method inserts an element to the list at a given index.\n",
    "vowel = ['a', 'e', 'i', 'u']\n",
    "print('Vowel List: ', vowel)\n",
    "# inserting element to list at 4th position\n",
    "vowel.insert(3, 'o')\n",
    "\n",
    "print('Updated List: ', vowel)"
   ]
  },
  {
   "cell_type": "code",
   "execution_count": 5,
   "metadata": {},
   "outputs": [
    {
     "name": "stdout",
     "output_type": "stream",
     "text": [
      "The index of e: 1\n",
      "The index of i: 2\n"
     ]
    }
   ],
   "source": [
    "# index: The index() method searches an element in the list and returns its index.\n",
    "vowels = ['a', 'e', 'i', 'o', 'i', 'u']\n",
    "# index of 'e'\n",
    "index = vowels.index('e')\n",
    "print('The index of e:', index)\n",
    "# index of the first 'i'\n",
    "index = vowels.index('i')\n",
    "print('The index of i:', index)"
   ]
  },
  {
   "cell_type": "code",
   "execution_count": 7,
   "metadata": {},
   "outputs": [
    {
     "name": "stdout",
     "output_type": "stream",
     "text": [
      "Animals list:  ['cat', 'dog', 'rabbit', 'guinea pig']\n",
      "Updated animals list:  ['cat', 'dog', 'guinea pig']\n"
     ]
    }
   ],
   "source": [
    "# remove: The remove() method removes the first matching element (which is passed as an argument) from the list.\n",
    "animals = ['cat', 'dog', 'rabbit', 'guinea pig']\n",
    "print('Animals list: ', animals)\n",
    "# 'rabbit' is removed\n",
    "animals.remove('rabbit')\n",
    "# Updated animals List\n",
    "print('Updated animals list: ', animals)"
   ]
  },
  {
   "cell_type": "code",
   "execution_count": 9,
   "metadata": {},
   "outputs": [
    {
     "name": "stdout",
     "output_type": "stream",
     "text": [
      "lang: ['Python', 'Java', 'C++', 'French', 'C']\n",
      "Return Value: French\n",
      "Updated List: ['Python', 'Java', 'C++', 'C']\n"
     ]
    }
   ],
   "source": [
    "#pop: The pop() method removes the item at the given index from the list and returns the removed item\n",
    "languages = ['Python', 'Java', 'C++', 'French', 'C']\n",
    "print('lang:', languages)\n",
    "# remove and return the 4th item\n",
    "return_value = languages.pop(3)\n",
    "print('Return Value:', return_value)\n",
    "# Updated List\n",
    "print('Updated List:', languages)"
   ]
  },
  {
   "cell_type": "code",
   "execution_count": 9,
   "metadata": {},
   "outputs": [
    {
     "name": "stdout",
     "output_type": "stream",
     "text": [
      "[9, 35, 7, 9, 35, 7, 45]\n"
     ]
    }
   ],
   "source": [
    "# Append: The append() method adds an item to the end of the list.\n",
    "lista_2.append(45)\n",
    "print(lista_2)"
   ]
  },
  {
   "cell_type": "code",
   "execution_count": 11,
   "metadata": {},
   "outputs": [
    {
     "name": "stdout",
     "output_type": "stream",
     "text": [
      "[9, 35, 7, [6, 5, 4], [6, 5, 4]]\n"
     ]
    }
   ],
   "source": [
    "# Puedo anexar una lista completa, como último elemento de lista actual\n",
    "mi_lista.append([6,5,4])\n",
    "print(mi_lista)"
   ]
  },
  {
   "cell_type": "code",
   "execution_count": 10,
   "metadata": {},
   "outputs": [
    {
     "name": "stdout",
     "output_type": "stream",
     "text": [
      "Original List: ['Windows', 'macOS', 'Linux']\n",
      "Updated List: ['Linux', 'macOS', 'Windows']\n"
     ]
    }
   ],
   "source": [
    "# Reverse: The reverse() method reverses the elements of a given list.\n",
    "os = ['Windows', 'macOS', 'Linux']\n",
    "print('Original List:', os)\n",
    "\n",
    "# List Reverse\n",
    "os.reverse()\n",
    "\n",
    "# updated list\n",
    "print('Updated List:', os)"
   ]
  },
  {
   "cell_type": "code",
   "execution_count": 11,
   "metadata": {},
   "outputs": [
    {
     "name": "stdout",
     "output_type": "stream",
     "text": [
      "Language List 1:  ['French', 'English', 'German']\n",
      "Language List 2:  ['French', 'English', 'German']\n",
      "Language List:  ['French', 'English', 'German', 'Spanish', 'Portuguese']\n"
     ]
    }
   ],
   "source": [
    "# Extend: The extend() extends the list by adding all items of a list (passed as an argument) to the end.\n",
    "language = ['French', 'English', 'German']\n",
    "print('Language List 1: ', language)\n",
    "\n",
    "# another list of language\n",
    "language1 = ['Spanish', 'Portuguese']\n",
    "print('Language List 2: ', language)\n",
    "\n",
    "language.extend(language1)\n",
    "\n",
    "# Extended List\n",
    "print('Language List: ', language)"
   ]
  },
  {
   "cell_type": "code",
   "execution_count": 13,
   "metadata": {},
   "outputs": [
    {
     "name": "stdout",
     "output_type": "stream",
     "text": [
      "The count of i is: 2\n",
      "The count of p is: 0\n"
     ]
    }
   ],
   "source": [
    "#Count: The count() method returns the number of occurrences of an element in a list.\n",
    "vowels = ['a', 'e', 'i', 'o', 'i', 'u']\n",
    "# count element 'i'\n",
    "count = vowels.count('i')\n",
    "# print count\n",
    "print('The count of i is:', count)\n",
    "# count element 'p'\n",
    "count = vowels.count('p')\n",
    "# print count\n",
    "print('The count of p is:', count)"
   ]
  },
  {
   "cell_type": "code",
   "execution_count": 15,
   "metadata": {},
   "outputs": [
    {
     "name": "stdout",
     "output_type": "stream",
     "text": [
      "Unsorted list: ['e', 'a', 'u', 'o', 'i']\n",
      "Sorted list: ['a', 'e', 'i', 'o', 'u']\n"
     ]
    }
   ],
   "source": [
    "# Sort: The sort() method sorts the elements of a given list.\n",
    "\n",
    "vowels = ['e', 'a', 'u', 'o', 'i']\n",
    "print('Unsorted list:', vowels)\n",
    "# sort the vowels\n",
    "vowels.sort()\n",
    "# print vowels\n",
    "print('Sorted list:', vowels)"
   ]
  },
  {
   "cell_type": "code",
   "execution_count": 16,
   "metadata": {},
   "outputs": [
    {
     "name": "stdout",
     "output_type": "stream",
     "text": [
      "List: [{1, 2}, 'a', ['1.1', '2.2']]\n",
      "List: []\n"
     ]
    }
   ],
   "source": [
    "# Clear: The clear() method removes all items from the list.\n",
    "list = [{1, 2}, ('a'), ['1.1', '2.2']]\n",
    "print('List:', list)\n",
    "# clearing the list\n",
    "list.clear()\n",
    "\n",
    "print('List:', list)"
   ]
  },
  {
   "cell_type": "code",
   "execution_count": 17,
   "metadata": {},
   "outputs": [
    {
     "name": "stdout",
     "output_type": "stream",
     "text": [
      "\n",
      "\n",
      "[9, 8, 7, 9, 8, 7]\n"
     ]
    }
   ],
   "source": [
    "# Sumar listas las concatena. \n",
    "print(\"\\n\") # Salto de línea\n",
    "lista_2 = mi_lista + mi_lista\n",
    "print(lista_2)"
   ]
  },
  {
   "cell_type": "code",
   "execution_count": 18,
   "metadata": {},
   "outputs": [
    {
     "name": "stdout",
     "output_type": "stream",
     "text": [
      "[9, 8, 7, 9, 8, 7, 9, 8, 7]\n"
     ]
    }
   ],
   "source": [
    "# Multiplicar por enteros concatena con si misma\n",
    "lista_3 =3* mi_lista\n",
    "print(lista_3)"
   ]
  },
  {
   "cell_type": "code",
   "execution_count": 19,
   "metadata": {},
   "outputs": [
    {
     "name": "stdout",
     "output_type": "stream",
     "text": [
      "\n",
      "\n",
      "[(1, 2, 3), 4.25, ['a', 'b', 'c'], 'PedroInfante', {'ObjetoQueNoHemosVisto': 140}]\n"
     ]
    }
   ],
   "source": [
    "# Pueden tener varios tipos \n",
    "# (e.g., lista de listas, lista de imagenes, diccionarios, modelos, o mezcla de elementos)\n",
    "lista_mixta = [(1,2,3), 8.5/2, ['a','b','c'],'PedroInfante', {\"ObjetoQueNoHemosVisto\":140}]\n",
    "print(\"\\n\") # Salto de línea\n",
    "print(lista_mixta)"
   ]
  },
  {
   "cell_type": "markdown",
   "metadata": {},
   "source": [
    "##### Diccionarios\n",
    "No tienen orden y pueden modificarse. En lugar de orden, mapean 'elementos' o 'llaves' (keys) con valores (values). Los elementos/llaves pueden ser caracteres, strings, tuplas, o números que, en general, identifican alguna coleección de objetos. Los valores puede ser cualquier cantidad de atributos (en diversas estructuras de datos) acerca de un elemento."
   ]
  },
  {
   "cell_type": "code",
   "execution_count": 20,
   "metadata": {},
   "outputs": [
    {
     "name": "stdout",
     "output_type": "stream",
     "text": [
      "{'Juan': 23, 'Pepe': 30, 'Ruth': 27}\n"
     ]
    }
   ],
   "source": [
    "# Declaración: {key1:value1, key2:value2}\n",
    "diccionario_simple = {\"Juan\":23, \"Pepe\":30, \"Ruth\":27}\n",
    "print(diccionario_simple)"
   ]
  },
  {
   "cell_type": "code",
   "execution_count": 21,
   "metadata": {},
   "outputs": [
    {
     "name": "stdout",
     "output_type": "stream",
     "text": [
      "30\n"
     ]
    }
   ],
   "source": [
    "# Acceso ya no usa indexación numérica, sino con KEY\n",
    "print(diccionario_simple[\"Pepe\"])"
   ]
  },
  {
   "cell_type": "code",
   "execution_count": 22,
   "metadata": {},
   "outputs": [
    {
     "name": "stdout",
     "output_type": "stream",
     "text": [
      "[30, 'Divorciado']\n"
     ]
    }
   ],
   "source": [
    "# Ahora cada key tiene lista de atributos\n",
    "diccionario_lista = {\"Juan\":[23, \"Soltero\"], \"Pepe\":[30, \"Divorciado\"], \"Ruth\":[27, \"Casada\"]}\n",
    "print(diccionario_lista[\"Pepe\"])"
   ]
  },
  {
   "cell_type": "code",
   "execution_count": 23,
   "metadata": {},
   "outputs": [
    {
     "name": "stdout",
     "output_type": "stream",
     "text": [
      "dict_keys(['Juan', 'Pepe', 'Ruth'])\n",
      "dict_values([[23, 'Soltero'], [30, 'Divorciado'], [27, 'Casada']])\n",
      "dict_items([('Juan', [23, 'Soltero']), ('Pepe', [30, 'Divorciado']), ('Ruth', [27, 'Casada'])])\n"
     ]
    }
   ],
   "source": [
    "# Hay funciones para obtener una lista de los KEYS o VALUES de un dict (o tuplas de ambos)\n",
    "print(diccionario_lista.keys())\n",
    "print(diccionario_lista.values())\n",
    "print(diccionario_lista.items())"
   ]
  },
  {
   "cell_type": "code",
   "execution_count": 24,
   "metadata": {},
   "outputs": [
    {
     "data": {
      "text/plain": [
       "{'Juan': {'Edad': 23, 'E_Civil': 'Soltero'},\n",
       " 'Pepe': {'Edad': 30, 'E_Civil': 'Divorciado'},\n",
       " 'Ruth': {'Edad': 27, 'E_Civil': 'Casada'}}"
      ]
     },
     "execution_count": 24,
     "metadata": {},
     "output_type": "execute_result"
    }
   ],
   "source": [
    "# Ahora cada key tiene un DICCIONARIO de atributos\n",
    "# Así queda mejor estructurada la información\n",
    "dict_dict = {\"Juan\":{\"Edad\":23, \"E_Civil\":\"Soltero\"},\n",
    "            \"Pepe\":{\"Edad\":30, \"E_Civil\":\"Divorciado\"},\n",
    "            \"Ruth\":{\"Edad\":27, \"E_Civil\":\"Casada\"} }\n",
    "dict_dict"
   ]
  },
  {
   "cell_type": "code",
   "execution_count": 25,
   "metadata": {},
   "outputs": [
    {
     "name": "stdout",
     "output_type": "stream",
     "text": [
      "{'Edad': 30, 'E_Civil': 'Divorciado'}\n"
     ]
    }
   ],
   "source": [
    "# Acceso a lo que hay EN UN KEY (retorna diccionario del KEY)\n",
    "print(dict_dict[\"Pepe\"])"
   ]
  },
  {
   "cell_type": "code",
   "execution_count": 26,
   "metadata": {},
   "outputs": [
    {
     "name": "stdout",
     "output_type": "stream",
     "text": [
      "30\n"
     ]
    }
   ],
   "source": [
    "# Si quiero la edad de Pepe, debo acceder al dict de Pepe y en ese diccionario acceder a la edad\n",
    "print(dict_dict[\"Pepe\"][\"Edad\"])"
   ]
  },
  {
   "cell_type": "code",
   "execution_count": 27,
   "metadata": {},
   "outputs": [
    {
     "name": "stdout",
     "output_type": "stream",
     "text": [
      "30\n"
     ]
    },
    {
     "data": {
      "text/plain": [
       "{'Edad': 30, 'E_Civil': 'Divorciado'}"
      ]
     },
     "execution_count": 27,
     "metadata": {},
     "output_type": "execute_result"
    }
   ],
   "source": [
    "# Note: lo anterior toma el objeto \"dict_dict[\"Pepe\"]\" como nuevo dict al que accede por edad\n",
    "el_diccionario_de_Pepe = dict_dict[\"Pepe\"]\n",
    "print(el_diccionario_de_Pepe[\"Edad\"])\n",
    "el_diccionario_de_Pepe"
   ]
  },
  {
   "cell_type": "markdown",
   "metadata": {},
   "source": [
    "##### Ejemplo simple: dibujar algunas series\n",
    "Empecemos con algo de análisis de datos elemental. Supongamos que un diccionario nos da una lista de precios de acciones para cada uno de sus elementos, que son empresas. Importemos un paquete de graficación y usemos un ciclo for básico para dibujar."
   ]
  },
  {
   "cell_type": "code",
   "execution_count": 28,
   "metadata": {
    "scrolled": true
   },
   "outputs": [
    {
     "data": {
      "text/plain": [
       "{'Bancolo': [23, 25, 27, 25, 25, 27],\n",
       " 'Ecopetr': [13, 35, 17, 25, 15, 37],\n",
       " 'Nutresa': [19, 20, 19, 20, 19, 20]}"
      ]
     },
     "execution_count": 28,
     "metadata": {},
     "output_type": "execute_result"
    }
   ],
   "source": [
    "my_stock_record = {\"Bancolo\":[23,25,27,25,25,27],\n",
    "                    \"Ecopetr\":[13,35,17,25,15,37],\n",
    "                    \"Nutresa\":[19,20,19,20,19,20] }\n",
    "my_stock_record"
   ]
  },
  {
   "cell_type": "code",
   "execution_count": 34,
   "metadata": {},
   "outputs": [
    {
     "data": {
      "image/png": "[encoded data removed]",
      "text/plain": [
       "<Figure size 432x288 with 1 Axes>"
      ]
     },
     "metadata": {
      "needs_background": "light"
     },
     "output_type": "display_data"
    }
   ],
   "source": [
    "# Esta forma de importar paquetes permite poner apodos prácticos\n",
    "import matplotlib.pyplot as plt\n",
    "\n",
    "# Usamos \"for\" porque sabemos el tamaño del recorrido\n",
    "# (Queremos \"barrer\" los elementos del diccionario de acciones)\n",
    "# Los dicionarios permiten ese barrido por keys\n",
    "for each_company in my_stock_record:\n",
    "    plt.plot(my_stock_record[each_company])\n",
    "# Configuración básica de la gráfica\n",
    "plt.ylabel(\"Stock Price ($)\")\n",
    "plt.xlabel(\"Periods (weeks)\")\n",
    "plt.show()"
   ]
  },
  {
   "cell_type": "markdown",
   "metadata": {},
   "source": [
    "##### Importar y trabajar con paquetes\n",
    "\n",
    "Frecuentemente es necesario valerse de paquetes para realizar tareas específicos. Por ejemplo:\n",
    "\n",
    "* El paquete scipy ofrece funcionalidades cuantitativas (stats, linalg)\n",
    "* El paquete numpy ofrece funcionalidades útiles (e.g., arreglos)\n",
    "* Existe la función random dentro del paquete random\n",
    "* Existen las funciones sqrt y exp dentro del paquete math"
   ]
  },
  {
   "cell_type": "code",
   "execution_count": 35,
   "metadata": {},
   "outputs": [],
   "source": [
    "from math import sqrt,exp # intentar también con *"
   ]
  },
  {
   "cell_type": "code",
   "execution_count": 36,
   "metadata": {},
   "outputs": [
    {
     "name": "stdout",
     "output_type": "stream",
     "text": [
      "Raiz y exponencial\n",
      "(3.0, 54.598150033144236)\n"
     ]
    }
   ],
   "source": [
    "print(\"Raiz y exponencial\")\n",
    "\n",
    "raiz = sqrt(9) \n",
    "expo = exp(4)\n",
    "# Si hubiera hecho solo \"import math\" tendría que hacer\n",
    "# math.sqrt(numero)\n",
    "# math.exp(numero)\n",
    "\n",
    "# Podemos armar una tupla con esos dos valores e imprimir\n",
    "print((raiz,expo))"
   ]
  },
  {
   "cell_type": "code",
   "execution_count": 37,
   "metadata": {},
   "outputs": [],
   "source": [
    "# De scipy, usemos la inversa linalg.inv() y la normal stats.norm.cdf()\n",
    "from scipy import stats, linalg\n",
    "import numpy as np # para trabajar con matrices debo usar arreglos de numpy"
   ]
  },
  {
   "cell_type": "code",
   "execution_count": 38,
   "metadata": {},
   "outputs": [
    {
     "name": "stdout",
     "output_type": "stream",
     "text": [
      "\n",
      "Inversa de una matriz\n",
      "_________________\n",
      "[[1 2]\n",
      " [3 4]]\n",
      "_________________\n",
      "[[-2.   1. ]\n",
      " [ 1.5 -0.5]]\n",
      "_________________\n"
     ]
    }
   ],
   "source": [
    "print(\"\\nInversa de una matriz\")\n",
    "# Una lista de listas puede representar una matriz (se listan las filas)\n",
    "matriz = np.array( [[1,2],[3,4]] )\n",
    "print(\"_________________\")\n",
    "print(matriz)\n",
    "print(\"_________________\")\n",
    "print(linalg.inv(matriz))\n",
    "print(\"_________________\")"
   ]
  },
  {
   "cell_type": "code",
   "execution_count": 39,
   "metadata": {},
   "outputs": [
    {
     "name": "stdout",
     "output_type": "stream",
     "text": [
      "\n",
      "Prob. acumulada del número aleatorio -0.48153395894544126 (normal)\n",
      "0.31506852515711137\n"
     ]
    }
   ],
   "source": [
    "from random import random\n",
    "\n",
    "aleatorio = -2*random()\n",
    "print(\"\\nProb. acumulada del número aleatorio \"+str(aleatorio)+\" (normal)\")\n",
    "print(stats.norm.cdf(aleatorio))"
   ]
  },
  {
   "cell_type": "markdown",
   "metadata": {},
   "source": [
    "##### Estructuras de control\n",
    "Veamos el uso de ciclos para acceder a diccionarios indexados con tuplas. Supongamos un diccionario que nos dice la cantidad de tráfico para diferentes combinaciones de aeropuerto, tipo de transporte y mes. Así, el *key* será una tupla que especifica (aerop, tipo, mes) y el valor será alguna medida de tráfico."
   ]
  },
  {
   "cell_type": "code",
   "execution_count": 40,
   "metadata": {},
   "outputs": [
    {
     "data": {
      "text/plain": [
       "{('BAQ', 'Carga', 'ago'): 12,\n",
       " ('BOG', 'Pasajero', 'ago'): 15,\n",
       " ('MED', 'Correspondencia', 'ago'): 22,\n",
       " ('BOG', 'Carga', 'ago'): 34,\n",
       " ('MED', 'Pasajero', 'ago'): 56,\n",
       " ('BAQ', 'Correspondencia', 'ago'): 21}"
      ]
     },
     "execution_count": 40,
     "metadata": {},
     "output_type": "execute_result"
    }
   ],
   "source": [
    "datos =    {(\"BAQ\", \"Carga\", \"ago\"):12,\n",
    "            (\"BOG\", \"Pasajero\", \"ago\"):15,\n",
    "            (\"MED\", \"Correspondencia\", \"ago\"):22,\n",
    "            (\"BOG\", \"Carga\", \"ago\"):34,\n",
    "            (\"MED\", \"Pasajero\", \"ago\"):56,\n",
    "            (\"BAQ\", \"Correspondencia\", \"ago\"):21}\n",
    "datos"
   ]
  },
  {
   "cell_type": "code",
   "execution_count": 41,
   "metadata": {},
   "outputs": [
    {
     "name": "stdout",
     "output_type": "stream",
     "text": [
      "\n",
      "Ejemplo 1: Imprimir todo menos Barranquilla:\n",
      "('BOG', 'Pasajero', 'ago')\n",
      "('MED', 'Correspondencia', 'ago')\n",
      "('BOG', 'Carga', 'ago')\n",
      "('MED', 'Pasajero', 'ago')\n"
     ]
    }
   ],
   "source": [
    "print(\"\\nEjemplo 1: Imprimir todo menos Barranquilla:\")\n",
    "for each_key in datos:\n",
    "    # each_key será cada tupla completa\n",
    "    # con each_key[0] hacemos referencia al aeropuerto\n",
    "    # \"!=\" significa diferente\n",
    "    if each_key[0] != \"BAQ\":\n",
    "        # supongamos que imprimimos la tupla completa\n",
    "        print(each_key)"
   ]
  },
  {
   "cell_type": "code",
   "execution_count": 42,
   "metadata": {},
   "outputs": [
    {
     "name": "stdout",
     "output_type": "stream",
     "text": [
      "\n",
      "ejemplo 2: Imprimir normal para tráficos mayores que 20 (cruzar los demás):\n",
      "___(12, ('BAQ', 'Carga', 'ago'))\n",
      "___(15, ('BOG', 'Pasajero', 'ago'))\n",
      "(('MED', 'Correspondencia', 'ago'), 22)\n",
      "(('BOG', 'Carga', 'ago'), 34)\n",
      "(('MED', 'Pasajero', 'ago'), 56)\n",
      "(('BAQ', 'Correspondencia', 'ago'), 21)\n"
     ]
    }
   ],
   "source": [
    "print(\"\\nejemplo 2: Imprimir normal para tráficos mayores que 20 (cruzar los demás):\")\n",
    "for each_key in datos:\n",
    "    # OJO: ya no hacemos condicional sobre el KEY sino sobre el VALUE\n",
    "    if datos[each_key] > 20:\n",
    "        # Si cumple imprimimos key,value\n",
    "        print( (each_key, datos[each_key]) )\n",
    "    else:\n",
    "        # Si no, imprimimos  value,key\n",
    "        tupla = (datos[each_key], each_key)\n",
    "        # Agreguemos linea para ver más fácil resultados diferentes\n",
    "        # Para concatenar la linea y la tupla, debemos convertir línea a str\n",
    "        print( \"___\" + str(tupla) )\n",
    "\n"
   ]
  },
  {
   "cell_type": "code",
   "execution_count": 43,
   "metadata": {},
   "outputs": [
    {
     "name": "stdout",
     "output_type": "stream",
     "text": [
      "0\n",
      "1\n",
      "2\n",
      "3\n",
      "4\n",
      "5\n",
      "6\n",
      "7\n",
      "8\n",
      "9\n",
      "10\n",
      "11\n",
      "Se ejecuto el ciclo\n"
     ]
    }
   ],
   "source": [
    "counter = 0\n",
    "while counter < 12:\n",
    "    print(counter)\n",
    "    counter = counter +1\n",
    "print(\"Se ejecuto el ciclo\")"
   ]
  },
  {
   "cell_type": "markdown",
   "metadata": {},
   "source": [
    "##### Funciones\n",
    "Una función es un bloque de código con un nombre asociado, que recibe cero o más argumentos como entrada, sigue una secuencia de sentencias, la cuales ejecuta una operación deseada y devuelve un valor y/o realiza una tarea, este bloque puede ser llamados cuando se necesite.\n",
    "\n",
    "El uso de funciones es un componente muy importante del paradigma de la programación llamada estructurada, y tiene varias ventajas:\n",
    "\n",
    "modularización: permite segmentar un programa complejo en una serie de partes o módulos más simples, facilitando así la programación y el depurado.\n",
    "reutilización: permite reutilizar una misma función en distintos programas.\n",
    "Python dispone de una serie de funciones integradas al lenguaje, y también permite crear funciones definidas por el usuario para ser usadas en su propios programas.\n",
    "\n",
    "Veamos unos ejemplos"
   ]
  },
  {
   "cell_type": "code",
   "execution_count": 47,
   "metadata": {},
   "outputs": [],
   "source": [
    "def hola(arg):\n",
    " #Main de la función\"\"\"\n",
    "    print (\"Hola\", arg, \"!\")"
   ]
  },
  {
   "cell_type": "code",
   "execution_count": 49,
   "metadata": {},
   "outputs": [
    {
     "name": "stdout",
     "output_type": "stream",
     "text": [
      "Hola Vanesa !\n"
     ]
    }
   ],
   "source": [
    "hola('Vanesa')"
   ]
  },
  {
   "cell_type": "code",
   "execution_count": 65,
   "metadata": {},
   "outputs": [],
   "source": [
    "def iva():\n",
    "    '''función básica para el calculo del IVA'''\n",
    "    iva = 0.19\n",
    "    costo = int(input('¿Cual es el monto a calcular?: '))\n",
    "    calculo = costo * iva\n",
    "    print(\"El calculo de IVA es: \" + str(calculo) + \"\\n\")"
   ]
  },
  {
   "cell_type": "code",
   "execution_count": 66,
   "metadata": {},
   "outputs": [
    {
     "name": "stdout",
     "output_type": "stream",
     "text": [
      "Calcular el IVA de un monto\n",
      "===========================\n",
      "\n",
      "¿Cual es el monto a calcular?: 300\n",
      "El calculo de IVA es: 57.0\n",
      "\n"
     ]
    }
   ],
   "source": [
    "mensaje = \"Calcular el IVA de un monto\"\n",
    "print (mensaje)\n",
    "print( \"=\" * len(mensaje) + \"\\n\")\n",
    "iva()"
   ]
  },
  {
   "cell_type": "code",
   "execution_count": 67,
   "metadata": {},
   "outputs": [],
   "source": [
    "def iva_2(x,y):\n",
    "    '''función básica para el calculo del IVA'''\n",
    "    iva = x\n",
    "    costo = y\n",
    "    calculo = x * y\n",
    "    print(\"El calculo de IVA es: \" + str(calculo) + \"\\n\")"
   ]
  },
  {
   "cell_type": "code",
   "execution_count": 68,
   "metadata": {},
   "outputs": [
    {
     "name": "stdout",
     "output_type": "stream",
     "text": [
      "El calculo de IVA es: 57.0\n",
      "\n"
     ]
    }
   ],
   "source": [
    "iva_2(0.19,300)"
   ]
  },
  {
   "cell_type": "code",
   "execution_count": 100,
   "metadata": {},
   "outputs": [],
   "source": [
    "import random\n",
    "\n",
    "def listaAleatorios(n):\n",
    "    lista = [0]  * n\n",
    "    for i in range(n):\n",
    "        lista[i] = random.randint(0, 1)\n",
    "    return lista"
   ]
  },
  {
   "cell_type": "code",
   "execution_count": 101,
   "metadata": {},
   "outputs": [
    {
     "name": "stdout",
     "output_type": "stream",
     "text": [
      "Ingrese cuantos numeros aleatorios desea obtener\n",
      "10\n",
      "[1, 1, 1, 0, 0, 0, 1, 0, 0, 1]\n"
     ]
    }
   ],
   "source": [
    "print(\"Ingrese cuantos numeros aleatorios desea obtener\")\n",
    "n=int(input())\n",
    "\n",
    "aleatorios=listaAleatorios(n)\n",
    "print(aleatorios)"
   ]
  },
  {
   "cell_type": "code",
   "execution_count": 131,
   "metadata": {},
   "outputs": [],
   "source": [
    "def condici(arg):\n",
    "    count=0\n",
    "    for x in arg:\n",
    "        if x==1:\n",
    "            count=count+1\n",
    "    print('Se encontraron',count,'elementos de',len(arg))\n",
    "    return count"
   ]
  },
  {
   "cell_type": "code",
   "execution_count": 132,
   "metadata": {},
   "outputs": [
    {
     "name": "stdout",
     "output_type": "stream",
     "text": [
      "Se encontraron 5 elementos de 10\n"
     ]
    },
    {
     "data": {
      "text/plain": [
       "5"
      ]
     },
     "execution_count": 132,
     "metadata": {},
     "output_type": "execute_result"
    }
   ],
   "source": [
    "condici(aleatorios)"
   ]
  },
  {
   "cell_type": "code",
   "execution_count": null,
   "metadata": {},
   "outputs": [],
   "source": []
  }
 ],
 "metadata": {
  "kernelspec": {
   "display_name": "Python 3",
   "language": "python",
   "name": "python3"
  },
  "language_info": {
   "codemirror_mode": {
    "name": "ipython",
    "version": 3
   },
   "file_extension": ".py",
   "mimetype": "text/x-python",
   "name": "python",
   "nbconvert_exporter": "python",
   "pygments_lexer": "ipython3",
   "version": "3.7.3"
  }
 },
 "nbformat": 4,
 "nbformat_minor": 1
}
