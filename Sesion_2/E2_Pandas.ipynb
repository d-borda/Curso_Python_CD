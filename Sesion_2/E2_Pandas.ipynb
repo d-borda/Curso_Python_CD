{
 "cells": [
  {
   "cell_type": "markdown",
   "metadata": {},
   "source": [
    "## Ejercicio 2\n",
    "### Pandas\n",
    "\n",
    "+ Manipulación de dataframes\n",
    "+ Limpieza de datos (funciones lambda)\n",
    "+ Conclusiones sobre los datos (pivots)\n",
    "\n",
    "El dataset de este ejercicio es un detalle de los atributos de todos los futbolistas incluidos en la base de datos de FIFA 19. Tenemos variables como nacionalidad, peso, altura, tambien variables de rendimiento como calificacion general (overall, potential) entre otros. El dataset esta dividido en 2 bases el objetivo de este ejercicio es construir una sola base y obtener insights"
   ]
  },
  {
   "cell_type": "markdown",
   "metadata": {},
   "source": [
    "### REALIZADO POR: Fernanda Castro"
   ]
  },
  {
   "cell_type": "code",
   "execution_count": 1,
   "metadata": {},
   "outputs": [],
   "source": [
    "import requests, zipfile \n",
    "from urllib.request import urlopen\n",
    "from io import BytesIO\n",
    "import pandas as pd\n",
    "import numpy as np"
   ]
  },
  {
   "cell_type": "code",
   "execution_count": 5,
   "metadata": {},
   "outputs": [],
   "source": [
    "zip_file_url = 'https://github.com/vanejaime/Curso_Python_CD/raw/master/datasets/FIFA19.csv.zip'\n",
    "remote_zip_file = urlopen(zip_file_url)\n",
    "zipinmemory = BytesIO(remote_zip_file.read())\n",
    "zip_file = zipfile.ZipFile(zipinmemory)\n",
    "\n",
    "data1 = pd.read_csv(zip_file.open(zip_file.namelist()[0]),encoding='850') #si tienen problemas intentar encoding='utf-8' o quitar la opcion encoding\n",
    "data2 = pd.read_csv(zip_file.open(zip_file.namelist()[1]),encoding='850')\n",
    "dict_position = pd.read_csv(zip_file.open(zip_file.namelist()[2]),encoding='850')"
   ]
  },
  {
   "cell_type": "code",
   "execution_count": 4,
   "metadata": {},
   "outputs": [
    {
     "data": {
      "text/plain": [
       "['data1.csv', 'data2.csv', 'Significado_Posiciones.csv', 'Variables.csv']"
      ]
     },
     "execution_count": 4,
     "metadata": {},
     "output_type": "execute_result"
    }
   ],
   "source": [
    "zip_file.namelist()"
   ]
  },
  {
   "cell_type": "code",
   "execution_count": 3,
   "metadata": {},
   "outputs": [
    {
     "data": {
      "text/html": [
       "<div>\n",
       "<style scoped>\n",
       "    .dataframe tbody tr th:only-of-type {\n",
       "        vertical-align: middle;\n",
       "    }\n",
       "\n",
       "    .dataframe tbody tr th {\n",
       "        vertical-align: top;\n",
       "    }\n",
       "\n",
       "    .dataframe thead th {\n",
       "        text-align: right;\n",
       "    }\n",
       "</style>\n",
       "<table border=\"1\" class=\"dataframe\">\n",
       "  <thead>\n",
       "    <tr style=\"text-align: right;\">\n",
       "      <th></th>\n",
       "      <th>Row</th>\n",
       "      <th>ID</th>\n",
       "      <th>Name</th>\n",
       "      <th>Age</th>\n",
       "      <th>Nationality</th>\n",
       "      <th>Overall</th>\n",
       "      <th>Potential</th>\n",
       "      <th>Club</th>\n",
       "      <th>Preferred Foot</th>\n",
       "      <th>International Reputation</th>\n",
       "      <th>Weak Foot</th>\n",
       "      <th>Skill Moves</th>\n",
       "      <th>Position</th>\n",
       "      <th>Jersey Number</th>\n",
       "      <th>Joined</th>\n",
       "      <th>Loaned From</th>\n",
       "      <th>Contract Valid Until</th>\n",
       "    </tr>\n",
       "  </thead>\n",
       "  <tbody>\n",
       "    <tr>\n",
       "      <th>0</th>\n",
       "      <td>0</td>\n",
       "      <td>158023</td>\n",
       "      <td>L. Messi</td>\n",
       "      <td>31</td>\n",
       "      <td>Argentina</td>\n",
       "      <td>94</td>\n",
       "      <td>94</td>\n",
       "      <td>FC Barcelona</td>\n",
       "      <td>Left</td>\n",
       "      <td>5.0</td>\n",
       "      <td>4.0</td>\n",
       "      <td>4.0</td>\n",
       "      <td>RF</td>\n",
       "      <td>10.0</td>\n",
       "      <td>1/07/2004</td>\n",
       "      <td>NaN</td>\n",
       "      <td>2021</td>\n",
       "    </tr>\n",
       "    <tr>\n",
       "      <th>1</th>\n",
       "      <td>1</td>\n",
       "      <td>20801</td>\n",
       "      <td>Cristiano Ronaldo</td>\n",
       "      <td>33</td>\n",
       "      <td>Portugal</td>\n",
       "      <td>94</td>\n",
       "      <td>94</td>\n",
       "      <td>Juventus</td>\n",
       "      <td>Right</td>\n",
       "      <td>5.0</td>\n",
       "      <td>4.0</td>\n",
       "      <td>5.0</td>\n",
       "      <td>ST</td>\n",
       "      <td>7.0</td>\n",
       "      <td>10/07/2018</td>\n",
       "      <td>NaN</td>\n",
       "      <td>2022</td>\n",
       "    </tr>\n",
       "    <tr>\n",
       "      <th>2</th>\n",
       "      <td>2</td>\n",
       "      <td>190871</td>\n",
       "      <td>Neymar Jr</td>\n",
       "      <td>26</td>\n",
       "      <td>Brazil</td>\n",
       "      <td>92</td>\n",
       "      <td>93</td>\n",
       "      <td>Paris Saint-Germain</td>\n",
       "      <td>Right</td>\n",
       "      <td>5.0</td>\n",
       "      <td>5.0</td>\n",
       "      <td>5.0</td>\n",
       "      <td>LW</td>\n",
       "      <td>10.0</td>\n",
       "      <td>3/08/2017</td>\n",
       "      <td>NaN</td>\n",
       "      <td>2022</td>\n",
       "    </tr>\n",
       "    <tr>\n",
       "      <th>3</th>\n",
       "      <td>3</td>\n",
       "      <td>193080</td>\n",
       "      <td>De Gea</td>\n",
       "      <td>27</td>\n",
       "      <td>Spain</td>\n",
       "      <td>91</td>\n",
       "      <td>93</td>\n",
       "      <td>Manchester United</td>\n",
       "      <td>Right</td>\n",
       "      <td>4.0</td>\n",
       "      <td>3.0</td>\n",
       "      <td>1.0</td>\n",
       "      <td>GK</td>\n",
       "      <td>1.0</td>\n",
       "      <td>1/07/2011</td>\n",
       "      <td>NaN</td>\n",
       "      <td>2020</td>\n",
       "    </tr>\n",
       "    <tr>\n",
       "      <th>4</th>\n",
       "      <td>4</td>\n",
       "      <td>192985</td>\n",
       "      <td>K. De Bruyne</td>\n",
       "      <td>27</td>\n",
       "      <td>Belgium</td>\n",
       "      <td>91</td>\n",
       "      <td>92</td>\n",
       "      <td>Manchester City</td>\n",
       "      <td>Right</td>\n",
       "      <td>4.0</td>\n",
       "      <td>5.0</td>\n",
       "      <td>4.0</td>\n",
       "      <td>RCM</td>\n",
       "      <td>7.0</td>\n",
       "      <td>30/08/2015</td>\n",
       "      <td>NaN</td>\n",
       "      <td>2023</td>\n",
       "    </tr>\n",
       "  </tbody>\n",
       "</table>\n",
       "</div>"
      ],
      "text/plain": [
       "   Row      ID               Name  Age Nationality  Overall  Potential  \\\n",
       "0    0  158023           L. Messi   31   Argentina       94         94   \n",
       "1    1   20801  Cristiano Ronaldo   33    Portugal       94         94   \n",
       "2    2  190871          Neymar Jr   26      Brazil       92         93   \n",
       "3    3  193080             De Gea   27       Spain       91         93   \n",
       "4    4  192985       K. De Bruyne   27     Belgium       91         92   \n",
       "\n",
       "                  Club Preferred Foot  International Reputation  Weak Foot  \\\n",
       "0         FC Barcelona           Left                       5.0        4.0   \n",
       "1             Juventus          Right                       5.0        4.0   \n",
       "2  Paris Saint-Germain          Right                       5.0        5.0   \n",
       "3    Manchester United          Right                       4.0        3.0   \n",
       "4      Manchester City          Right                       4.0        5.0   \n",
       "\n",
       "   Skill Moves Position  Jersey Number      Joined Loaned From  \\\n",
       "0          4.0       RF           10.0   1/07/2004         NaN   \n",
       "1          5.0       ST            7.0  10/07/2018         NaN   \n",
       "2          5.0       LW           10.0   3/08/2017         NaN   \n",
       "3          1.0       GK            1.0   1/07/2011         NaN   \n",
       "4          4.0      RCM            7.0  30/08/2015         NaN   \n",
       "\n",
       "   Contract Valid Until  \n",
       "0                  2021  \n",
       "1                  2022  \n",
       "2                  2022  \n",
       "3                  2020  \n",
       "4                  2023  "
      ]
     },
     "execution_count": 3,
     "metadata": {},
     "output_type": "execute_result"
    }
   ],
   "source": [
    "data1.head()"
   ]
  },
  {
   "cell_type": "code",
   "execution_count": 4,
   "metadata": {},
   "outputs": [
    {
     "data": {
      "text/html": [
       "<div>\n",
       "<style scoped>\n",
       "    .dataframe tbody tr th:only-of-type {\n",
       "        vertical-align: middle;\n",
       "    }\n",
       "\n",
       "    .dataframe tbody tr th {\n",
       "        vertical-align: top;\n",
       "    }\n",
       "\n",
       "    .dataframe thead th {\n",
       "        text-align: right;\n",
       "    }\n",
       "</style>\n",
       "<table border=\"1\" class=\"dataframe\">\n",
       "  <thead>\n",
       "    <tr style=\"text-align: right;\">\n",
       "      <th></th>\n",
       "      <th>Row</th>\n",
       "      <th>ID</th>\n",
       "      <th>Height(in)</th>\n",
       "      <th>Weight(lbs)</th>\n",
       "      <th>Release Clause(Eur)</th>\n",
       "      <th>Value(Eur)</th>\n",
       "      <th>Wage(Eur)</th>\n",
       "    </tr>\n",
       "  </thead>\n",
       "  <tbody>\n",
       "    <tr>\n",
       "      <th>0</th>\n",
       "      <td>0</td>\n",
       "      <td>158023</td>\n",
       "      <td>67</td>\n",
       "      <td>159.0</td>\n",
       "      <td>2.265000e+09</td>\n",
       "      <td>1105000000</td>\n",
       "      <td>565000</td>\n",
       "    </tr>\n",
       "    <tr>\n",
       "      <th>1</th>\n",
       "      <td>1</td>\n",
       "      <td>20801</td>\n",
       "      <td>74</td>\n",
       "      <td>183.0</td>\n",
       "      <td>1.271000e+09</td>\n",
       "      <td>77000000</td>\n",
       "      <td>405000</td>\n",
       "    </tr>\n",
       "    <tr>\n",
       "      <th>2</th>\n",
       "      <td>2</td>\n",
       "      <td>190871</td>\n",
       "      <td>69</td>\n",
       "      <td>150.0</td>\n",
       "      <td>2.281000e+09</td>\n",
       "      <td>1185000000</td>\n",
       "      <td>290000</td>\n",
       "    </tr>\n",
       "    <tr>\n",
       "      <th>3</th>\n",
       "      <td>3</td>\n",
       "      <td>193080</td>\n",
       "      <td>76</td>\n",
       "      <td>168.0</td>\n",
       "      <td>1.386000e+09</td>\n",
       "      <td>72000000</td>\n",
       "      <td>260000</td>\n",
       "    </tr>\n",
       "    <tr>\n",
       "      <th>4</th>\n",
       "      <td>4</td>\n",
       "      <td>192985</td>\n",
       "      <td>71</td>\n",
       "      <td>154.0</td>\n",
       "      <td>1.964000e+09</td>\n",
       "      <td>102000000</td>\n",
       "      <td>355000</td>\n",
       "    </tr>\n",
       "  </tbody>\n",
       "</table>\n",
       "</div>"
      ],
      "text/plain": [
       "   Row      ID  Height(in)  Weight(lbs)  Release Clause(Eur)  Value(Eur)  \\\n",
       "0    0  158023          67        159.0         2.265000e+09  1105000000   \n",
       "1    1   20801          74        183.0         1.271000e+09    77000000   \n",
       "2    2  190871          69        150.0         2.281000e+09  1185000000   \n",
       "3    3  193080          76        168.0         1.386000e+09    72000000   \n",
       "4    4  192985          71        154.0         1.964000e+09   102000000   \n",
       "\n",
       "   Wage(Eur)  \n",
       "0     565000  \n",
       "1     405000  \n",
       "2     290000  \n",
       "3     260000  \n",
       "4     355000  "
      ]
     },
     "execution_count": 4,
     "metadata": {},
     "output_type": "execute_result"
    }
   ],
   "source": [
    "data2.head()"
   ]
  },
  {
   "cell_type": "code",
   "execution_count": 5,
   "metadata": {},
   "outputs": [
    {
     "data": {
      "text/html": [
       "<div>\n",
       "<style scoped>\n",
       "    .dataframe tbody tr th:only-of-type {\n",
       "        vertical-align: middle;\n",
       "    }\n",
       "\n",
       "    .dataframe tbody tr th {\n",
       "        vertical-align: top;\n",
       "    }\n",
       "\n",
       "    .dataframe thead th {\n",
       "        text-align: right;\n",
       "    }\n",
       "</style>\n",
       "<table border=\"1\" class=\"dataframe\">\n",
       "  <thead>\n",
       "    <tr style=\"text-align: right;\">\n",
       "      <th></th>\n",
       "      <th>Position</th>\n",
       "      <th>Significado</th>\n",
       "    </tr>\n",
       "  </thead>\n",
       "  <tbody>\n",
       "    <tr>\n",
       "      <th>0</th>\n",
       "      <td>CAM</td>\n",
       "      <td>Medio Campista</td>\n",
       "    </tr>\n",
       "    <tr>\n",
       "      <th>1</th>\n",
       "      <td>CB</td>\n",
       "      <td>Defensa</td>\n",
       "    </tr>\n",
       "    <tr>\n",
       "      <th>2</th>\n",
       "      <td>CDM</td>\n",
       "      <td>Medio Campista</td>\n",
       "    </tr>\n",
       "    <tr>\n",
       "      <th>3</th>\n",
       "      <td>CF</td>\n",
       "      <td>Delantero</td>\n",
       "    </tr>\n",
       "    <tr>\n",
       "      <th>4</th>\n",
       "      <td>CM</td>\n",
       "      <td>Medio Campista</td>\n",
       "    </tr>\n",
       "  </tbody>\n",
       "</table>\n",
       "</div>"
      ],
      "text/plain": [
       "  Position     Significado\n",
       "0      CAM  Medio Campista\n",
       "1       CB         Defensa\n",
       "2      CDM  Medio Campista\n",
       "3       CF       Delantero\n",
       "4       CM  Medio Campista"
      ]
     },
     "execution_count": 5,
     "metadata": {},
     "output_type": "execute_result"
    }
   ],
   "source": [
    "dict_position.head()"
   ]
  },
  {
   "cell_type": "markdown",
   "metadata": {},
   "source": [
    "### PARTE A.\n",
    "\n",
    "1. Unir las bases data1 y data2.\n",
    "2. Eliminar columnas innecesarias.\n",
    "3. Establecer como indice del dataframe la columna ID (id único para cada futbolista)\n",
    "4. Crear una variable \"Significado\" esta variable corresponde al significado que tienen las siglas de la columna Position, el significado de cada sigla lo encuentran en el dataframe dict_position\n",
    "5. A los valores vacios ó en 0 de la columna Release Clause asignarles el min de dicha columna (imprimir cuantos NaN hay)\n",
    "6. A los valores vacios ó en 0 de la columna Value asignarles la media de dicha columna (imprimir cuantos NaN hay)\n",
    "7. A los valores vacios ó en 0 de la columna Wage asignarles el maximo de dicha columna (imprimir cuantos NaN hay)\n",
    "8. Arreglar la columna Height, convertirla a cm (actualmente en in)\n",
    "9. Arreglar la columna Weight, convertirla a kg (actualmente en lbs)"
   ]
  },
  {
   "cell_type": "code",
   "execution_count": 6,
   "metadata": {},
   "outputs": [],
   "source": [
    "#1. Union\n"
   ]
  },
  {
   "cell_type": "code",
   "execution_count": 7,
   "metadata": {},
   "outputs": [],
   "source": [
    "#2. Eliminar columnas innecesarias\n",
    "\n",
    "#3. Indice va a ser el ID del jugador\n"
   ]
  },
  {
   "cell_type": "code",
   "execution_count": 8,
   "metadata": {},
   "outputs": [],
   "source": [
    "#4. Establecer como indice del dataframe la columna ID (id único para cada futbolista)\n"
   ]
  },
  {
   "cell_type": "code",
   "execution_count": 9,
   "metadata": {},
   "outputs": [],
   "source": [
    "#5. A los valores vacios ó en 0 de la columna Release Clause asignarles el minimo de dicha columna\n"
   ]
  },
  {
   "cell_type": "code",
   "execution_count": 10,
   "metadata": {},
   "outputs": [],
   "source": [
    "#6. A los valores vacios ó en 0 de la columna Value asignarles la media de dicha columna (imprimir cuantos NaN hay)\n"
   ]
  },
  {
   "cell_type": "code",
   "execution_count": 11,
   "metadata": {},
   "outputs": [],
   "source": [
    "#7. A los valores vacios ó en 0 de la columna Wage asignarles el maximo de dicha columna (imprimir cuantos NaN hay)\n"
   ]
  },
  {
   "cell_type": "code",
   "execution_count": 12,
   "metadata": {},
   "outputs": [],
   "source": [
    "#8. Arreglar la columna Height, convertirla a cm (actualmente en in)\n"
   ]
  },
  {
   "cell_type": "code",
   "execution_count": 13,
   "metadata": {},
   "outputs": [],
   "source": [
    "#9. Arreglar la columna Weight, convertirla a kg (actualmente en lbs)\n"
   ]
  },
  {
   "cell_type": "markdown",
   "metadata": {},
   "source": [
    "### PARTE B.\n",
    "Hint: Pivot, Counts, max, min, indexación.\n",
    "\n",
    "Conteste las siguientes preguntas:\n",
    "1. Cual es el jugador mas y menos pesado?\n",
    "2. Cual es el jugador mas y menos alto?\n",
    "3. Cual es el jugador mas y menos viejo?\n",
    "4. AntiTop 10 de jugadores según overall\n",
    "5. Cual es la distribución de jugadores por País? (Tabla)\n",
    "6. Cual es la distribución de jugadores por Edad? (Tabla)\n",
    "7. Cual es la distribución de jugadores por Posición (columna Significado)? (Tabla)\n",
    "8. Cual es el promedio de altura, peso por país\n",
    "9. Cual es el promedio de altura, peso por equipo\n",
    "10. Cual es el equipo mas caro egún el salario (wage)\n",
    "11. Cual es el equipo mas economico según el salario (wage)\n",
    "12. Cual es la distribución de jugadores por pie preferido?\n",
    "13. Cual es la relacion entre el país de origen y la posición?\n",
    "14. Cual es numero de camiseta mas y menos usado?\n",
    "15. Cual es el equipo que mas cede jugadores a otros equipos?\n",
    "16. Cual es el equipo que menos cede jugadores a otros equipos?\n",
    "17. Cual es el equipo que mas recibe jugadores de otros equipos?\n",
    "18. Cual es el promedio de salario (wage) por posicion (significado)?\n",
    "19. Cual es el equipo con mas valor en el mercado (Value)?\n",
    "20. Cual es el equipo con menos valor en el mercado (Value)?\n",
    "21. Top 7 de jugadores de clausulas de permanencia, muestre al equipo al que pertenece. (Release Clause(Eur))\n",
    "22. Cual es el país con los mejores jugadores (overrall y potential) (Tabla)\n",
    "23. Cual es el país con los peores jugadores (overrall y potential) (Tabla)\n",
    "24. Cree que hay relación entre el Valor del jugador y el país de origen?\n",
    "25. Cree que hay relación entre el Valor del jugador y la edad?\n",
    "26. Haga un histograma sobre la variable Contract Valid Until, que dice este histograma?\n",
    "27. Cual es el promedio de edad por posición?\n",
    "28. Cual es el promedio de peso por posición?\n",
    "29. Cual es el promedio de altura por posición?\n",
    "30. Agregue cualquier otra conclusión que detecte en el análisis de la base anterior"
   ]
  },
  {
   "cell_type": "code",
   "execution_count": null,
   "metadata": {},
   "outputs": [],
   "source": []
  }
 ],
 "metadata": {
  "kernelspec": {
   "display_name": "Python 3",
   "language": "python",
   "name": "python3"
  },
  "language_info": {
   "codemirror_mode": {
    "name": "ipython",
    "version": 3
   },
   "file_extension": ".py",
   "mimetype": "text/x-python",
   "name": "python",
   "nbconvert_exporter": "python",
   "pygments_lexer": "ipython3",
   "version": "3.6.4"
  }
 },
 "nbformat": 4,
 "nbformat_minor": 2
}
