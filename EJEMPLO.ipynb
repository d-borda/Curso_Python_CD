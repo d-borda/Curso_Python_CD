{
 "cells": [
  {
   "cell_type": "markdown",
   "metadata": {},
   "source": [
    "# Ejemplo - Selección de Becados\n",
    "\n",
    "Supongamos que se busca dar becas a una población de N aspirantes, de acuerdo a los siguientes criterios de elegibilidad:\n",
    "1. Tener entre 21 y 35 años\n",
    "2. Ser soltero\n",
    "3. Haber cursado bachillerato, o incluso pregrado, pero no tener títulos superiores\n",
    "\n",
    "Estas reglas extrañas solo buscan que pongamos en práctica algunas habilidades básicas.\n",
    "\n",
    "## Paso 1: crear archivos necesarios\n",
    "\n",
    "Se deben crear los archivos:\n",
    "* edades.txt, que tiene una lista ordenada de 500 enteros (de 14 a 80)\n",
    "\n"
   ]
  },
  {
   "cell_type": "code",
   "execution_count": 1,
   "metadata": {},
   "outputs": [],
   "source": [
    "# Usar paquete de números aleatorios para generar edades\n",
    "from random import random\n",
    "N = 1200\n",
    "\n",
    "# Iniciar un archivo\n",
    "# (OJO: se abre en modo escritura con el 'w')\n",
    "file = open(\"edades.txt\",'w')\n",
    "\n",
    "# Definir ciclo  para escribir línea por línea\n",
    "# (sabiendo que serán N líneas)\n",
    "for i in range(N):\n",
    "    # redondear un aleatorio entre 14 y 80\n",
    "    edad = int(round(14 + 66*random()))\n",
    "    # Escribir línea (concatenando con salto de línea)\n",
    "    file.write(str(edad)+\"\\n\")\n",
    "file.close()\n"
   ]
  },
  {
   "cell_type": "markdown",
   "metadata": {},
   "source": [
    "* estado_civil.txt, que tiene una lista ordenada con posibles campos: soltero, casado, divorciado, viudo"
   ]
  },
  {
   "cell_type": "code",
   "execution_count": 2,
   "metadata": {},
   "outputs": [],
   "source": [
    "estados = ['soltero', 'casado', 'divorciado', 'viudo']\n",
    "\n",
    "# Estructura with hace más eficiente el trabajo con archivos\n",
    "with open(\"estado_civil.txt\",'w') as f:\n",
    "    # Para cada linea de las N\n",
    "    for i in range(N):\n",
    "        # Elegir índice aleatorio (para seleccionar elementos 0,1,2,3 de \"estados\")\n",
    "         indice = int(round(3*random()))\n",
    "         f.write(estados[indice] + \"\\n\")\n"
   ]
  },
  {
   "cell_type": "markdown",
   "metadata": {},
   "source": [
    "* escolaridad.xls, , que tiene una lista ordenada con posibles campos: primaria, bachiller, profesional, maestria, doctorado"
   ]
  },
  {
   "cell_type": "code",
   "execution_count": 3,
   "metadata": {},
   "outputs": [],
   "source": [
    "grados = ['primaria\\n', 'bachiller\\n', 'profesional\\n', 'maestria\\n', 'doctorado\\n']\n",
    "\n",
    "with open(\"escolaridad.txt\",'w') as f:\n",
    "    for i in range(N):\n",
    "         indice = int(round(4*random()))\n",
    "         f.write(grados[indice])\n"
   ]
  },
  {
   "cell_type": "markdown",
   "metadata": {},
   "source": [
    "## Paso 2: leer archivos y convertir información a estructuras de datos en Python"
   ]
  },
  {
   "cell_type": "code",
   "execution_count": 4,
   "metadata": {},
   "outputs": [],
   "source": [
    "# (OJO: se abre en modo lectura con el 'r')\n",
    "with open(\"edades.txt\",\"r\") as f:\n",
    "    # con splitlines, cada renglón va a una posición de una lista\n",
    "    edad = f.read().splitlines()\n",
    "\n",
    "with open(\"estado_civil.txt\",\"r\") as f:\n",
    "    estado_civil = f.read().splitlines()\n",
    "\n",
    "with open(\"escolaridad.txt\",\"r\") as f:\n",
    "    escolar = f.read().splitlines()\n"
   ]
  },
  {
   "cell_type": "markdown",
   "metadata": {},
   "source": [
    "## Paso 3: efectuar procesamiento\n",
    "En este paso utilizaremos funciones (hacen cosas y retornan algo) y procedimientos (hacen cosas y no retornan nada). La mecánica es la siguiente:\n",
    "\n",
    "1. Queremos tomar aleatoriamente personas de la población que hemos construido.\n",
    "2. Una vez tenemos un candidato (aleatorio) revisamos su edad, estado civil y escolaridad.\n",
    "3. Si cumple las condiciones establecidas, lo elegimos y paramos la búsqueda; si no, seguimos buscando, a menos que hayan pasado tantos intentos como individuos en la población (lo que indicaría que no hay aspirantes válidos)\n",
    "\n",
    "Para esto construiremos una función que encuentre una persona aleatoria, una que evalúe si se cumplen las condiciones, y una serie de instrucciones que usen estas funciones para llevar a cabo el proceso descrito."
   ]
  },
  {
   "cell_type": "code",
   "execution_count": 9,
   "metadata": {},
   "outputs": [],
   "source": [
    "# Encontrar persona aleatoria\n",
    "def find_random_person():\n",
    "    random_num = int( round( (N-1)*random() ) )\n",
    "    this_candidate = {\"N\":random_num,\n",
    "                      \"Age\":edad[random_num],\n",
    "                      \"MaritalStatus\":estado_civil[random_num],\n",
    "                      \"Education\": escolar[random_num] }\n",
    "    return this_candidate\n",
    "\n"
   ]
  },
  {
   "cell_type": "code",
   "execution_count": 10,
   "metadata": {},
   "outputs": [],
   "source": [
    "# Evaluar candidato\n",
    "def examine(examined_candidate):\n",
    "    is_eligible = False  # assume ineligibility until proven otherwise\n",
    "    \n",
    "    # evaluate candidate's conditions (each variable will be a boolean)\n",
    "    satisfies_age_condition = (int(examined_candidate[\"Age\"])>=21) and (int(examined_candidate[\"Age\"])<=35)\n",
    "    satisfies_marital_condition = (examined_candidate[\"MaritalStatus\"]==\"soltero\")\n",
    "    satisfies_education_condition = (examined_candidate[\"Education\"]==\"bachiller\") or (examined_candidate[\"Education\"]==\"pregrado\")\n",
    "    \n",
    "    if satisfies_age_condition and satisfies_marital_condition and satisfies_education_condition:\n",
    "        is_eligible = True\n",
    "    return is_eligible\n",
    "\n"
   ]
  },
  {
   "cell_type": "code",
   "execution_count": 35,
   "metadata": {},
   "outputs": [
    {
     "name": "stdout",
     "output_type": "stream",
     "text": [
      "Después de 10 encontré candidato válido para la beca\n",
      "{'N': 1146, 'Age': '21', 'MaritalStatus': 'soltero', 'Education': 'bachiller'}\n"
     ]
    }
   ],
   "source": [
    "# ALGORITMO PRINCIPAL\n",
    "trials = 0\n",
    "no_candidate_found = True\n",
    "while no_candidate_found:\n",
    "    next_candidate = find_random_person()    \n",
    "    is_he_accepted = examine(next_candidate)\n",
    "    if is_he_accepted == True:\n",
    "        no_candidate_found = False\n",
    "    \n",
    "    # Keep track of trials to abort when many\n",
    "    trials += 1\n",
    "    if trials > N:\n",
    "        break\n",
    "\n",
    "if no_candidate_found:\n",
    "    print(\"No se encuentra candidato\")\n",
    "else:\n",
    "    print(\"Después de \"+str(trials)+\" encontré candidato válido para la beca\")\n",
    "    print(next_candidate)"
   ]
  },
  {
   "cell_type": "code",
   "execution_count": null,
   "metadata": {},
   "outputs": [],
   "source": []
  }
 ],
 "metadata": {
  "kernelspec": {
   "display_name": "Python 3",
   "language": "python",
   "name": "python3"
  },
  "language_info": {
   "codemirror_mode": {
    "name": "ipython",
    "version": 3
   },
   "file_extension": ".py",
   "mimetype": "text/x-python",
   "name": "python",
   "nbconvert_exporter": "python",
   "pygments_lexer": "ipython3",
   "version": "3.7.3"
  }
 },
 "nbformat": 4,
 "nbformat_minor": 1
}
