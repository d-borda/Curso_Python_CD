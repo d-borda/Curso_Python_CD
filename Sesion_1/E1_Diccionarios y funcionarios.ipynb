{
 "cells": [
  {
   "cell_type": "markdown",
   "metadata": {},
   "source": [
    "# Ejercicio - Selección de Becados\n",
    "\n",
    "Supongamos que se busca dar becas a una población de N aspirantes, de acuerdo a los siguientes criterios de elegibilidad:\n",
    "1. Tener entre 21 y 35 años\n",
    "2. Ser soltero\n",
    "3. Haber cursado bachillerato, o incluso pregrado, pero no tener títulos superiores\n",
    "\n",
    "Estas reglas extrañas solo buscan que pongamos en práctica algunas habilidades básicas.\n",
    "\n",
    "## Paso 1: crear archivos necesarios\n",
    "\n",
    "Se deben crear los archivos:\n",
    "* edades.txt, que tiene una lista ordenada de 1200 enteros (de 14 a 80)\n",
    "\n"
   ]
  },
  {
   "cell_type": "code",
   "execution_count": 27,
   "metadata": {},
   "outputs": [],
   "source": [
    "# Usar paquete de números aleatorios para generar edades\n",
    "# from random import random\n",
    "import random\n",
    "N = 1200\n",
    "\n",
    "#Fijar semilla\n",
    "random.seed(0)\n",
    "\n",
    "# Iniciar un archivo\n",
    "# (OJO: se abre en modo escritura con el 'w')\n",
    "file = open(\"edades.txt\",'w')\n",
    "\n",
    "# Definir ciclo  para escribir línea por línea\n",
    "# (sabiendo que serán N líneas)\n",
    "for i in range(N):\n",
    "    # redondear un aleatorio entre 14 y 80\n",
    "    # edad = int(round(14 + 66*random()))\n",
    "    edad = int(round(14 + 66*random.random()))\n",
    "    # Escribir línea (concatenando con salto de línea)\n",
    "    file.write(str(edad)+\"\\n\")\n",
    "file.close()"
   ]
  },
  {
   "cell_type": "markdown",
   "metadata": {},
   "source": [
    "* estado_civil.txt, que tiene una lista ordenada con posibles campos: soltero, casado, divorciado, viudo"
   ]
  },
  {
   "cell_type": "code",
   "execution_count": 35,
   "metadata": {},
   "outputs": [],
   "source": [
    "estados = ['soltero', 'casado', 'divorciado', 'viudo']\n",
    "\n",
    "#Fijar semilla\n",
    "random.seed(0)\n",
    "\n",
    "# Estructura with hace más eficiente el trabajo con archivos\n",
    "with open(\"estado_civil.txt\",'w') as f:\n",
    "    \n",
    "    # Para cada linea de las N\n",
    "    for i in range(N):\n",
    "        # Elegir índice aleatorio (para seleccionar elementos 0,1,2,3 de \"estados\")\n",
    "         indice = int(round(3*random.random()))\n",
    "         f.write(estados[indice] + \"\\n\")"
   ]
  },
  {
   "cell_type": "markdown",
   "metadata": {},
   "source": [
    "* escolaridad.xls, , que tiene una lista ordenada con posibles campos: primaria, bachiller, profesional, maestria, doctorado"
   ]
  },
  {
   "cell_type": "code",
   "execution_count": 36,
   "metadata": {},
   "outputs": [],
   "source": [
    "grados = ['primaria\\n', 'bachiller\\n', 'profesional\\n', 'maestria\\n', 'doctorado\\n']\n",
    "\n",
    "#Fijar semilla\n",
    "random.seed(0)\n",
    "\n",
    "with open(\"escolaridad.txt\",'w') as f:\n",
    "    for i in range(N):\n",
    "         indice = int(round(4*random.random()))\n",
    "         f.write(grados[indice])"
   ]
  },
  {
   "cell_type": "markdown",
   "metadata": {},
   "source": [
    "## Paso 2: leer archivos y convertir información a estructuras de datos en Python\n",
    "\n",
    "vamos a traer como lista la información generada en el paso anterior "
   ]
  },
  {
   "cell_type": "code",
   "execution_count": 37,
   "metadata": {},
   "outputs": [],
   "source": [
    "# (OJO: se abre en modo lectura con el 'r')\n",
    "with open(\"edades.txt\",\"r\") as f:\n",
    "    # con splitlines, cada renglón va a una posición de una lista\n",
    "    edad = f.read().splitlines()\n",
    "\n",
    "with open(\"estado_civil.txt\",\"r\") as f:\n",
    "    estado_civil = f.read().splitlines()\n",
    "\n",
    "with open(\"escolaridad.txt\",\"r\") as f:\n",
    "    escolar = f.read().splitlines()\n"
   ]
  },
  {
   "cell_type": "code",
   "execution_count": 38,
   "metadata": {},
   "outputs": [
    {
     "name": "stdout",
     "output_type": "stream",
     "text": [
      "Thank you for the music\n",
      "Welcome to the jungle\n",
      "['Thank you for the music', 'Welcome to the jungle']\n"
     ]
    }
   ],
   "source": [
    "#Ejemplo de splitlines, convierte cada renglon en una posicion de lista\n",
    "txt = \"Thank you for the music\\nWelcome to the jungle\"\n",
    "print(txt)\n",
    "x = txt.splitlines()\n",
    "print(x)"
   ]
  },
  {
   "cell_type": "markdown",
   "metadata": {},
   "source": [
    "#### Veamos las listas con las que vamos a trabajar"
   ]
  },
  {
   "cell_type": "code",
   "execution_count": 32,
   "metadata": {},
   "outputs": [
    {
     "data": {
      "text/plain": [
       "['70', '64', '42', '31', '48', '41', '66', '34', '45', '53']"
      ]
     },
     "execution_count": 32,
     "metadata": {},
     "output_type": "execute_result"
    }
   ],
   "source": [
    "edad[:10]"
   ]
  },
  {
   "cell_type": "code",
   "execution_count": 33,
   "metadata": {
    "scrolled": true
   },
   "outputs": [
    {
     "data": {
      "text/plain": [
       "['viudo',\n",
       " 'divorciado',\n",
       " 'casado',\n",
       " 'casado',\n",
       " 'divorciado',\n",
       " 'casado',\n",
       " 'divorciado',\n",
       " 'casado',\n",
       " 'casado',\n",
       " 'divorciado']"
      ]
     },
     "execution_count": 33,
     "metadata": {},
     "output_type": "execute_result"
    }
   ],
   "source": [
    "estado_civil[:10]"
   ]
  },
  {
   "cell_type": "code",
   "execution_count": 34,
   "metadata": {},
   "outputs": [
    {
     "data": {
      "text/plain": [
       "['maestria',\n",
       " 'maestria',\n",
       " 'profesional',\n",
       " 'bachiller',\n",
       " 'profesional',\n",
       " 'profesional',\n",
       " 'maestria',\n",
       " 'bachiller',\n",
       " 'profesional',\n",
       " 'profesional']"
      ]
     },
     "execution_count": 34,
     "metadata": {},
     "output_type": "execute_result"
    }
   ],
   "source": [
    "escolar[:10]"
   ]
  },
  {
   "cell_type": "markdown",
   "metadata": {},
   "source": [
    "## Paso 3: efectuar procesamiento\n",
    "\n",
    "### Sugerencia\n",
    "Utilizar funciones y procedimientos teniendo en cuenta:\n",
    "\n",
    "1. Queremos tomar aleatoriamente personas de la población que hemos construido.\n",
    "2. Una vez tenemos un candidato (aleatorio) revisamos su edad, estado civil y escolaridad.\n",
    "3. Si cumple las condiciones establecidas, lo elegimos y paramos la búsqueda; si no, seguimos buscando, a menos que hayan pasado tantos intentos como individuos en la población (lo que indicaría que no hay aspirantes válidos)\n",
    "\n",
    "Para esto construir:\n",
    "* función que encuentre una persona aleatoria, \n",
    "* función que evalúe si se cumplen las condiciones,\n",
    "* Serie de instrucciones que usen estas funciones para llevar a cabo el proceso descrito."
   ]
  },
  {
   "cell_type": "markdown",
   "metadata": {},
   "source": [
    "## Aqui su respuesta"
   ]
  },
  {
   "cell_type": "code",
   "execution_count": null,
   "metadata": {},
   "outputs": [],
   "source": []
  }
 ],
 "metadata": {
  "kernelspec": {
   "display_name": "Python 3",
   "language": "python",
   "name": "python3"
  },
  "language_info": {
   "codemirror_mode": {
    "name": "ipython",
    "version": 3
   },
   "file_extension": ".py",
   "mimetype": "text/x-python",
   "name": "python",
   "nbconvert_exporter": "python",
   "pygments_lexer": "ipython3",
   "version": "3.6.4"
  }
 },
 "nbformat": 4,
 "nbformat_minor": 1
}
